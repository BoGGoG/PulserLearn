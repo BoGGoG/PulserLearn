{
 "cells": [
  {
   "cell_type": "markdown",
   "metadata": {},
   "source": [
    "Background distribution: uniform, 50k events   \n",
    "signal distribution: normal, centered on 60th bin, sdt 5 bin, 500 events\n",
    "\n",
    "ToDo\n",
    "- [x] generate data $o_i$ and $e_i$\n",
    "- [ ] $\\chi^2$"
   ]
  },
  {
   "cell_type": "code",
   "execution_count": 522,
   "metadata": {},
   "outputs": [],
   "source": [
    "import numpy as np\n",
    "import matplotlib.pyplot as plt"
   ]
  },
  {
   "cell_type": "code",
   "execution_count": 523,
   "metadata": {},
   "outputs": [],
   "source": [
    "generator = np.random.default_rng(42)"
   ]
  },
  {
   "cell_type": "code",
   "execution_count": 524,
   "metadata": {},
   "outputs": [],
   "source": [
    "n_bg = 50_000\n",
    "n_signals = 500\n",
    "n_bins = 100\n",
    "bg_signals = generator.uniform(0, 100, n_bg)\n",
    "real_signals = generator.normal(60, 5, n_signals)\n",
    "signals = np.concatenate([bg_signals, real_signals])"
   ]
  },
  {
   "cell_type": "code",
   "execution_count": 525,
   "metadata": {},
   "outputs": [],
   "source": [
    "# observed\n",
    "o_i, o_edges = np.histogram(signals, bins=n_bins, range=(0, 100))\n",
    "e_i = np.array([len(signals) / n_bins] * n_bins)"
   ]
  },
  {
   "cell_type": "code",
   "execution_count": 526,
   "metadata": {},
   "outputs": [],
   "source": [
    "delta_i = (o_i - e_i) / np.sqrt(e_i)"
   ]
  },
  {
   "cell_type": "code",
   "execution_count": 527,
   "metadata": {},
   "outputs": [
    {
     "data": {
      "text/plain": [
       "Text(0, 0.5, '$\\\\Delta_i$')"
      ]
     },
     "execution_count": 527,
     "metadata": {},
     "output_type": "execute_result"
    },
    {
     "data": {
      "image/png": "[encoded data removed]",
      "text/plain": [
       "<Figure size 1000x400 with 1 Axes>"
      ]
     },
     "metadata": {},
     "output_type": "display_data"
    }
   ],
   "source": [
    "plt.figure(figsize=(10, 4))\n",
    "plt.stairs(delta_i, o_edges, label=\"Data\")\n",
    "plt.xlabel(\"Bin i\")\n",
    "plt.ylabel(r\"$\\Delta_i$\")"
   ]
  },
  {
   "cell_type": "code",
   "execution_count": 528,
   "metadata": {},
   "outputs": [
    {
     "data": {
      "text/plain": [
       "121.90099009900992"
      ]
     },
     "execution_count": 528,
     "metadata": {},
     "output_type": "execute_result"
    }
   ],
   "source": [
    "chi2 = np.sum(delta_i ** 2)\n",
    "chi2"
   ]
  },
  {
   "cell_type": "code",
   "execution_count": 529,
   "metadata": {},
   "outputs": [
    {
     "name": "stdout",
     "output_type": "stream",
     "text": [
      "[[0. 1. 0. ... 0. 0. 0.]\n",
      " [1. 0. 1. ... 0. 0. 0.]\n",
      " [0. 1. 0. ... 0. 0. 0.]\n",
      " ...\n",
      " [0. 0. 0. ... 0. 1. 0.]\n",
      " [0. 0. 0. ... 1. 0. 1.]\n",
      " [0. 0. 0. ... 0. 1. 0.]]\n"
     ]
    }
   ],
   "source": [
    "# only nearest neighbours, i.e. matrix with 0s on the diagonal and 1s on the one upper and one lower diagonal\n",
    "w_ij = np.zeros((n_bins, n_bins))\n",
    "for i in range(n_bins):\n",
    "    if i > 0:\n",
    "        w_ij[i, i - 1] = 1\n",
    "    if i < n_bins - 1:\n",
    "        w_ij[i, i + 1] = 1\n",
    "print(w_ij)"
   ]
  },
  {
   "cell_type": "markdown",
   "metadata": {},
   "source": [
    "Hamiltonian:   \n",
    "$$ H = -\\sum_{i=1}^N \\frac{|\\Delta_i| \\Delta_i}{2} \\frac{s_i}{2} - \\frac{\\lambda}{2} \\sum_{ij} \\omega_{ij} \\frac{(\\Delta_i + \\Delta_j)^2}{4} \\frac{1+s_i s_j}{2} $$"
   ]
  },
  {
   "cell_type": "code",
   "execution_count": null,
   "metadata": {},
   "outputs": [],
   "source": [
    "def Hamiltonian(s_i, delta_i, w_ij, lamb):\n",
    "    r\"\"\"\n",
    "    Computes the Ising Hamiltonian:\n",
    "\n",
    "    $$ H = -\\sum_{i=1}^N \\frac{|\\Delta_i| \\Delta_i}{2} \\frac{s_i}{2} \n",
    "         - \\frac{\\lambda}{2} \\sum_{ij} \\omega_{ij} \\frac{(\\Delta_i + \\Delta_j)^2}{4} \\frac{1+s_i s_j}{2} $$\n",
    "\n",
    "    Parameters:\n",
    "    - s_i: Array of spin values (+1 or -1)\n",
    "    - delta_i: Array of deviations Δ_i\n",
    "    - w_ij: Interaction matrix ω_ij\n",
    "    - lamb: Coupling parameter λ\n",
    "\n",
    "    Returns:\n",
    "    - Hamiltonian value\n",
    "    \"\"\"\n",
    "    a = - np.sum(np.abs(delta_i) * delta_i * s_i) / 4  # First term\n",
    "\n",
    "    dd = np.add.outer(delta_i, delta_i)**2 / 4.0  # Efficient pairwise Δ sum\n",
    "    ss = (1 + np.outer(s_i, s_i)) / 2.0  # Interaction factor\n",
    "    \n",
    "    b = - (lamb / 2.0) * np.sum(w_ij * dd * ss)  # Second term\n",
    "    \n",
    "    return a + b"
   ]
  },
  {
   "cell_type": "code",
   "execution_count": 531,
   "metadata": {},
   "outputs": [],
   "source": [
    "# s_i either -1 or 1\n",
    "# random initialisation\n",
    "s_i = generator.choice([-1, 1], n_bins)"
   ]
  },
  {
   "cell_type": "code",
   "execution_count": 532,
   "metadata": {},
   "outputs": [
    {
     "data": {
      "text/plain": [
       "-31.394554455445547"
      ]
     },
     "execution_count": 532,
     "metadata": {},
     "output_type": "execute_result"
    }
   ],
   "source": [
    "Hamiltonian(s_i, delta_i, w_ij, 1)"
   ]
  },
  {
   "cell_type": "markdown",
   "metadata": {},
   "source": [
    "QUBO formulation\n",
    "$\n",
    "\\begin{align}\n",
    "H &= C_A + C_B + \\sum_i Q_i x_i + \\sum_{ij} Q_{ij} x_i x_j \\\\\n",
    "Q_i &= -\\frac{|\\Delta_i| \\Delta_i}{2} + \\lambda \\sum_j w_{ij} \\frac{(\\Delta_i + \\Delta_j)^2}{4} \\\\\n",
    "Q_{ij} &= \\lambda \\omega_{ij} \\frac{(\\Delta_i + \\Delta_j)^2}{4}\\\\\n",
    "C_A &= \\sum_i \\frac{|\\Delta_i| \\Delta_i}{4} \\\\\n",
    "C_B &= - \\frac{\\lambda}{2} \\sum_{ij} w_{ij} \\frac{(\\Delta_i + \\Delta_j)^2}{4}\n",
    "\\end{align}\n",
    "$"
   ]
  },
  {
   "cell_type": "code",
   "execution_count": 593,
   "metadata": {},
   "outputs": [],
   "source": [
    "def calc_Qi(delta_i, w_ij, lamb):\n",
    "    dd = (delta_i[:, np.newaxis] + delta_i[np.newaxis, :])**2 / 4.0\n",
    "    return - np.abs(delta_i) * delta_i / 2.0 + lamb * np.sum(w_ij * dd, axis=1)\n",
    "\n",
    "def calc_Qij(delta_i, w_ij, lamb):\n",
    "    dd = (delta_i[:, np.newaxis] + delta_i[np.newaxis, :])**2 / 4.0\n",
    "    return - lamb * w_ij * dd\n",
    "\n",
    "def calc_CA(delta_i, w_ij, lamb):\n",
    "    dd = np.abs(delta_i) * delta_i / 4\n",
    "    return np.sum(dd)\n",
    "\n",
    "def calc_CB(delta_i, w_ij, lamb):\n",
    "    dd = (delta_i[:, np.newaxis] + delta_i[np.newaxis, :])**2 / 4.0\n",
    "    return - (lamb / 2.0) * np.sum(w_ij * dd)\n",
    "\n",
    "def calc_H_QUBO(s_i, delta_i, w_ij, lamb):\n",
    "    x_i = (s_i + 1) / 2\n",
    "    a = np.sum(calc_Qi(delta_i, w_ij, lamb) * x_i)\n",
    "    b = np.sum(calc_Qij(delta_i, w_ij, lamb) * np.outer(x_i, x_i))\n",
    "    c = calc_CA(delta_i, w_ij, lamb)\n",
    "    d = calc_CB(delta_i, w_ij, lamb)\n",
    "    print(f\"{a=}, {b=}, {c=}, {d=}\")\n",
    "    return a + b + c + d"
   ]
  },
  {
   "cell_type": "code",
   "execution_count": 594,
   "metadata": {},
   "outputs": [
    {
     "name": "stdout",
     "output_type": "stream",
     "text": [
      "a=54.51188118811882, b=-9.277227722772277, c=2.852475247524753, d=-79.48168316831683\n"
     ]
    },
    {
     "data": {
      "text/plain": [
       "-31.394554455445544"
      ]
     },
     "execution_count": 594,
     "metadata": {},
     "output_type": "execute_result"
    }
   ],
   "source": [
    "calc_H_QUBO(s_i, delta_i, w_ij, 1)"
   ]
  },
  {
   "cell_type": "code",
   "execution_count": 595,
   "metadata": {},
   "outputs": [
    {
     "data": {
      "text/plain": [
       "-31.394554455445547"
      ]
     },
     "execution_count": 595,
     "metadata": {},
     "output_type": "execute_result"
    }
   ],
   "source": [
    "Hamiltonian(s_i, delta_i, w_ij, 1)"
   ]
  },
  {
   "cell_type": "code",
   "execution_count": 596,
   "metadata": {},
   "outputs": [
    {
     "data": {
      "text/plain": [
       "array([[-0.        , -0.08366337, -0.        , ..., -0.        ,\n",
       "        -0.        , -0.        ],\n",
       "       [-0.08366337, -0.        , -0.26188119, ..., -0.        ,\n",
       "        -0.        , -0.        ],\n",
       "       [-0.        , -0.26188119, -0.        , ..., -0.        ,\n",
       "        -0.        , -0.        ],\n",
       "       ...,\n",
       "       [-0.        , -0.        , -0.        , ..., -0.        ,\n",
       "        -1.39059406, -0.        ],\n",
       "       [-0.        , -0.        , -0.        , ..., -1.39059406,\n",
       "        -0.        , -0.16039604],\n",
       "       [-0.        , -0.        , -0.        , ..., -0.        ,\n",
       "        -0.16039604, -0.        ]])"
      ]
     },
     "execution_count": 596,
     "metadata": {},
     "output_type": "execute_result"
    }
   ],
   "source": [
    "calc_Qij(delta_i, w_ij, 1)"
   ]
  },
  {
   "cell_type": "code",
   "execution_count": 600,
   "metadata": {},
   "outputs": [
    {
     "data": {
      "text/plain": [
       "array([   8.14356436,   35.33069307,   27.94554455,   21.58316832,\n",
       "         91.72376238,  100.28613861,   41.23663366,   30.62475248,\n",
       "        132.02970297,  176.13267327,  132.11980198,  149.48019802,\n",
       "         93.49009901,   30.82574257,   17.80594059,    5.78811881,\n",
       "          4.15940594,   28.79306931,   89.38118812,   94.5049505 ,\n",
       "         84.19405941,   56.31287129,   28.65742574,   60.01386139,\n",
       "         36.44455446,    2.64851485,    3.26732673,   56.5039604 ,\n",
       "        263.46534653,  320.51980198,  109.80594059,    2.87227723,\n",
       "         24.19405941,   76.57524752,   80.11485149,  131.2980198 ,\n",
       "        224.33564356,  436.17227723,  439.02376238,  140.61287129,\n",
       "        104.90693069,  133.07821782,   50.68415842,  184.21683168,\n",
       "        473.47920792,  395.61782178,  332.41683168,  287.81584158,\n",
       "         71.28316832,  121.08910891,  279.16435644,  362.62376238,\n",
       "        378.86237624,  212.4019802 ,   67.29108911,  134.17425743,\n",
       "        109.66930693,   34.13366337,  290.27227723,  835.49405941,\n",
       "       1241.12475248, 1387.0980198 , 1010.37524752,  301.69405941,\n",
       "         76.25643564,  159.94653465,   88.66336634,   12.35148515,\n",
       "         19.40594059,    8.89009901,   15.51584158,   80.22277228,\n",
       "        212.24653465,  159.26138614,   24.00990099,  106.12772277,\n",
       "         92.4019802 ,   91.16237624,  377.11782178,  421.78316832,\n",
       "        144.02574257,   12.11485149,   23.2039604 ,   16.97425743,\n",
       "         13.21188119,   70.91485149,   58.02376238,   13.46930693,\n",
       "        131.72871287,  177.3019802 ,   93.31584158,   39.29108911,\n",
       "          5.9990099 ,   62.12871287,   61.25346535,   13.73762376,\n",
       "          9.54356436,  139.54356436,  156.38217822,   15.71881188])"
      ]
     },
     "execution_count": 600,
     "metadata": {},
     "output_type": "execute_result"
    }
   ],
   "source": [
    "calc_Qi(delta_i, w_ij, 100)"
   ]
  },
  {
   "cell_type": "code",
   "execution_count": null,
   "metadata": {},
   "outputs": [],
   "source": []
  }
 ],
 "metadata": {
  "kernelspec": {
   "display_name": "pulser",
   "language": "python",
   "name": "python3"
  },
  "language_info": {
   "codemirror_mode": {
    "name": "ipython",
    "version": 3
   },
   "file_extension": ".py",
   "mimetype": "text/x-python",
   "name": "python",
   "nbconvert_exporter": "python",
   "pygments_lexer": "ipython3",
   "version": "3.12.9"
  }
 },
 "nbformat": 4,
 "nbformat_minor": 2
}
