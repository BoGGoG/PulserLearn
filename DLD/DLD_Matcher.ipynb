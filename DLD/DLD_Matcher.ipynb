{
 "cells": [
  {
   "cell_type": "code",
   "execution_count": 1,
   "id": "3b791a3d",
   "metadata": {},
   "outputs": [],
   "source": [
    "import numpy as np\n",
    "import os\n",
    "from source.helpers import matprint\n",
    "from source.DLD_Matcher_QUBO import (\n",
    "    calc_time_sum,\n",
    "    generate_event_u1_u2_MCP,\n",
    "    generate_double_u1_u2_MCP,\n",
    "    get_QUBO_matrix,\n",
    "    solve_qubo_bruteforce,\n",
    ")"
   ]
  },
  {
   "cell_type": "code",
   "execution_count": 2,
   "id": "ac402340",
   "metadata": {},
   "outputs": [
    {
     "name": "stdout",
     "output_type": "stream",
     "text": [
      "-------------------------------------------------- \n",
      "Testing double event generation\n",
      "event peaks positions: [channel u1/u2/MCP, electron 1/2]\n",
      " [[ 65.81883407  41.39086682]\n",
      " [103.42717337 121.91733758]\n",
      " [ 24.45962733  21.36462395]]\n",
      "time sums electron 1: 120.32675277776409\n",
      "time sums electron 2: 120.57895651044484\n",
      "\n",
      " -------------------------------------------------- \n",
      "Testing QUBO formulation with generated event\n",
      "QUBO matrix Q =\n",
      " 1205.77  -903.354  -302.419  \n",
      "-903.354   674.446   228.908  \n",
      "-302.419   228.908   73.5101  \n",
      "\n",
      "solution: [1 1 1], energy: -5.826450433232822e-13\n",
      "solution: [0 0 0], energy: 0.0\n",
      "solution: [1 1 0], energy: 73.5100818794674\n",
      "solution: [0 0 1], energy: 73.51008187946813\n",
      "solution: [0 1 0], energy: 674.4457684841318\n",
      "solution: [1 0 1], energy: 674.4457684841319\n",
      "solution: [0 1 1], energy: 1205.7728166582283\n",
      "solution: [1 0 0], energy: 1205.7728166582283\n",
      "For q=array([1, 1, 1])\n",
      "q.T @ Q @ q=-5.826450433232822e-13\n",
      "\n",
      " -------------------------------------------------- \n",
      "Testing QUBO formulation with many events\n",
      "true: [1 1 1], pred: [1 1 1], energy: -9.663e-13, correct: True\n",
      "true: [1 1 0], pred: [0 0 1], energy:     -187.6, correct: True\n",
      "true: [1 1 0], pred: [0 0 1], energy:     -504.1, correct: True\n",
      "true: [1 0 0], pred: [0 1 1], energy: -7.525e+03, correct: True\n",
      "true: [1 1 0], pred: [1 1 0], energy:    -0.6417, correct: True\n",
      "true: [1 1 0], pred: [0 0 1], energy:     -1.586, correct: True\n",
      "true: [0 0 1], pred: [1 1 0], energy:     -699.3, correct: True\n",
      "true: [1 0 0], pred: [1 0 0], energy: -1.536e+03, correct: True\n",
      "true: [1 1 1], pred: [0 0 0], energy:        0.0, correct: True\n",
      "true: [0 0 1], pred: [1 1 0], energy:     -210.9, correct: True\n",
      "true: [0 1 0], pred: [1 0 1], energy:     -61.07, correct: True\n",
      "true: [1 1 0], pred: [1 1 0], energy:     -168.8, correct: True\n",
      "true: [0 0 0], pred: [0 0 0], energy:        0.0, correct: True\n",
      "true: [1 1 0], pred: [1 1 0], energy:     -143.6, correct: True\n",
      "true: [0 1 1], pred: [1 0 0], energy:     -338.5, correct: True\n",
      "true: [0 0 1], pred: [1 1 0], energy: -1.538e+03, correct: True\n",
      "true: [1 1 0], pred: [1 1 0], energy:     -388.4, correct: True\n",
      "true: [0 0 1], pred: [1 1 0], energy: -6.953e+03, correct: True\n",
      "true: [1 0 0], pred: [0 1 1], energy: -4.715e+03, correct: True\n",
      "true: [0 0 1], pred: [1 1 0], energy:     -798.0, correct: True\n",
      "true: [0 1 1], pred: [0 1 1], energy:     -262.5, correct: True\n",
      "true: [1 1 1], pred: [1 1 1], energy: -1.364e-12, correct: True\n",
      "true: [0 0 1], pred: [0 0 1], energy:  -2.62e+03, correct: True\n",
      "true: [0 0 0], pred: [0 0 0], energy:        0.0, correct: True\n",
      "true: [1 1 0], pred: [0 0 1], energy:     -956.1, correct: True\n",
      "true: [1 1 0], pred: [1 1 0], energy:     -5.087, correct: True\n",
      "true: [0 1 0], pred: [1 0 1], energy:     -247.3, correct: True\n",
      "true: [1 1 0], pred: [0 0 1], energy:     -552.5, correct: True\n",
      "true: [0 1 1], pred: [1 0 0], energy:     -689.2, correct: True\n",
      "true: [0 0 0], pred: [0 0 0], energy:        0.0, correct: True\n",
      "true: [0 1 1], pred: [1 0 0], energy:     -1.542, correct: True\n",
      "true: [0 1 0], pred: [1 0 1], energy: -2.127e+03, correct: True\n",
      "true: [0 0 1], pred: [0 0 1], energy: -1.112e+03, correct: True\n",
      "true: [1 0 0], pred: [0 1 1], energy: -4.525e+04, correct: True\n",
      "true: [1 0 1], pred: [0 1 0], energy:     -794.8, correct: True\n",
      "true: [1 1 0], pred: [0 0 1], energy:     -702.8, correct: True\n",
      "true: [0 1 1], pred: [0 1 1], energy: -1.123e+04, correct: True\n",
      "true: [0 0 0], pred: [1 1 1], energy: -1.009e-12, correct: True\n",
      "true: [0 1 0], pred: [1 0 1], energy:     -99.29, correct: True\n",
      "true: [0 1 0], pred: [0 1 0], energy:  -3.94e+03, correct: True\n",
      "true: [0 0 1], pred: [1 1 0], energy:     -771.7, correct: True\n",
      "true: [1 1 1], pred: [0 0 0], energy:        0.0, correct: True\n",
      "true: [1 1 0], pred: [1 1 0], energy:  -6.18e+03, correct: True\n",
      "true: [1 0 0], pred: [1 0 0], energy: -6.354e+03, correct: True\n",
      "true: [1 0 1], pred: [0 1 0], energy: -5.934e+03, correct: True\n",
      "true: [1 0 0], pred: [0 1 1], energy: -1.078e+04, correct: True\n",
      "true: [0 1 1], pred: [0 1 1], energy: -6.882e+03, correct: True\n",
      "true: [0 1 0], pred: [0 1 0], energy: -5.211e+03, correct: True\n",
      "true: [0 1 1], pred: [0 1 1], energy: -5.471e+03, correct: True\n",
      "true: [1 0 0], pred: [1 0 0], energy: -8.657e+03, correct: True\n"
     ]
    }
   ],
   "source": [
    "def test_DLD_QUBO(n: int = 10, time_sum=120.0):\n",
    "    g = np.random.default_rng(42)\n",
    "    pred = []\n",
    "    true = []\n",
    "    vals = []\n",
    "    for _ in range(n):\n",
    "        e12 = generate_double_u1_u2_MCP(\n",
    "            time_sum=time_sum,\n",
    "            bin_max=255,\n",
    "            binsize=0.8,\n",
    "            noise_std=0.0,\n",
    "            g=g,\n",
    "        )  # shape (3, 2)\n",
    "        # randomly permute second dimension. perms = [0/1, 0/1, 0/1]\n",
    "        # if 1, swap\n",
    "        perms = g.integers(0, 2, size=3)\n",
    "        for i in range(3):\n",
    "            if perms[i] == 1:\n",
    "                e12[i] = e12[i, ::-1]\n",
    "\n",
    "        Q = get_QUBO_matrix(e12[0], e12[1], e12[2], time_sum)\n",
    "        s = solve_qubo_bruteforce(Q, 1)[0]\n",
    "        pred.append(s[0])\n",
    "        vals.append(s[1])\n",
    "        true.append(perms)\n",
    "    return np.array(true), np.array(pred), np.array(vals)\n",
    "\n",
    "\n",
    "def check_correct(y, ypred):\n",
    "    \"\"\"\n",
    "    y: binary array\n",
    "    ypred: binary array\n",
    "\n",
    "    check if all entries are the same or if all are the same if y is flipped (all entries)\n",
    "    \"\"\"\n",
    "    out = np.all(y == ypred)\n",
    "    out_flipped = np.all(y == 1 - ypred)\n",
    "\n",
    "    return out or out_flipped\n",
    "\n",
    "\n",
    "if __name__ == \"__main__\":\n",
    "    g = np.random.default_rng(44)\n",
    "    time_sum = 120.0\n",
    "\n",
    "    print(\"-\" * 50, \"\\nTesting double event generation\")\n",
    "    e12 = generate_double_u1_u2_MCP(\n",
    "        time_sum=time_sum,\n",
    "        bin_max=255,\n",
    "        binsize=0.8,\n",
    "        noise_std=1.0,\n",
    "        g=g,\n",
    "    )\n",
    "    print(f\"event peaks positions: [channel u1/u2/MCP, electron 1/2]\\n {e12}\")\n",
    "    ts_1 = calc_time_sum(e12[0, 0], e12[1, 0], e12[2, 0])\n",
    "    ts_2 = calc_time_sum(e12[0, 1], e12[1, 1], e12[2, 1])\n",
    "    print(f\"time sums electron 1: {ts_1}\")\n",
    "    print(f\"time sums electron 2: {ts_2}\")\n",
    "\n",
    "    print(\"\\n\", \"-\" * 50, \"\\nTesting QUBO formulation with generated event\")\n",
    "    Q = get_QUBO_matrix(e12[0], e12[1], e12[2], time_sum)\n",
    "    print(\"QUBO matrix Q =\")\n",
    "    matprint(Q)\n",
    "    print()\n",
    "    sols = solve_qubo_bruteforce(Q, 8)\n",
    "    for s in sols:\n",
    "        print(f\"solution: {s[0]}, energy: {s[1]}\")\n",
    "    q = sols[0][0]\n",
    "    print(f\"For {q=}\")\n",
    "    print(f\"{q.T @ Q @ q=}\")\n",
    "\n",
    "    print(\"\\n\", \"-\" * 50, \"\\nTesting QUBO formulation with many events\")\n",
    "    true, pred, vals = test_DLD_QUBO(50)\n",
    "    for t, p, v in zip(true, pred, vals):\n",
    "        print(f\"true: {t}, pred: {p}, energy: {v:10.4}, correct: {check_correct(t, p)}\")\n"
   ]
  },
  {
   "cell_type": "markdown",
   "id": "a7ab9625",
   "metadata": {},
   "source": [
    "Now with rounding of QUBO matrix"
   ]
  },
  {
   "cell_type": "code",
   "execution_count": 5,
   "id": "739ad9ee",
   "metadata": {},
   "outputs": [],
   "source": [
    "import os\n",
    "import sys\n",
    "# os.chdir(\"..\") # want to import from this directories source folder\n",
    "from source.DLD_Matcher_QUBO import scale_and_round_qubo\n",
    "sys.path.append(\"../source\")\n",
    "\n",
    "from qubo import solve_qubo_bruteforce, plot_distribution, anneal, draw_solutions, evaluate_mapping, get_Q_from_coords, get_register_embedding\n",
    "from qubovert_custom import problem_to_qubo_matrix\n",
    "import matplotlib.pyplot as plt\n",
    "from tqdm import tqdm"
   ]
  },
  {
   "cell_type": "code",
   "execution_count": 8,
   "id": "3ee6fe89",
   "metadata": {},
   "outputs": [
    {
     "name": "stderr",
     "output_type": "stream",
     "text": [
      "100%|██████████| 1000/1000 [00:02<00:00, 484.67it/s]\n"
     ]
    },
    {
     "name": "stdout",
     "output_type": "stream",
     "text": [
      "mean loss: 0.17625862008816837\n"
     ]
    },
    {
     "data": {
      "image/png": "[encoded data removed]",
      "text/plain": [
       "<Figure size 640x480 with 1 Axes>"
      ]
     },
     "metadata": {},
     "output_type": "display_data"
    }
   ],
   "source": [
    "g = np.random.default_rng(42)\n",
    "time_sum = 120.0\n",
    "n = 1000\n",
    "max_abs_value = 50\n",
    "\n",
    "losses = []\n",
    "for i in tqdm(range(n)):\n",
    "    e12 = generate_double_u1_u2_MCP(\n",
    "        time_sum=time_sum,\n",
    "        bin_max=255,\n",
    "        binsize=0.8,\n",
    "        noise_std=1.0,\n",
    "        g=g,\n",
    "    )\n",
    "    Q = get_QUBO_matrix(e12[0], e12[1], e12[2], time_sum)\n",
    "    scaled_Q, scale, props = scale_and_round_qubo(\n",
    "        Q, max_abs_value=max_abs_value, max_scale_multiplier=500\n",
    "    )\n",
    "    # matprint(scaled_Q)\n",
    "    losses.append(props[\"loss\"])\n",
    "\n",
    "mean_loss = np.mean(losses)\n",
    "print(f\"mean loss: {mean_loss}\")\n",
    "plt.hist(losses, bins=50)\n",
    "plt.ylabel(\"count\")\n",
    "plt.xlabel(\"loss (=rounding errors)\")\n",
    "plt.title(\"Loss distribution\")\n",
    "plt.show()\n"
   ]
  },
  {
   "cell_type": "code",
   "execution_count": 83,
   "id": "49b34a72",
   "metadata": {},
   "outputs": [],
   "source": [
    "def evaluate_qubo_rounding(n:int, time_sum:float, max_abs_value:float, g=None, verbose:bool = True):\n",
    "    if g is None:\n",
    "        g = np.random.default_rng(42)\n",
    "    true = []\n",
    "    pred = []\n",
    "    pred_second = []\n",
    "    for i in tqdm(range(n), disable=not verbose):\n",
    "        e12 = generate_double_u1_u2_MCP(\n",
    "            time_sum=time_sum,\n",
    "            bin_max=255,\n",
    "            binsize=0.8,\n",
    "            noise_std=1.0,\n",
    "            g=g,\n",
    "        )\n",
    "        perms = g.integers(0, 2, size=3)\n",
    "        for i in range(3):\n",
    "            if perms[i] == 1:\n",
    "                e12[i] = e12[i, ::-1]\n",
    "\n",
    "        Q = get_QUBO_matrix(e12[0], e12[1], e12[2], time_sum)\n",
    "        scaled_Q, scale, props = scale_and_round_qubo(\n",
    "            Q, max_abs_value=max_abs_value, max_scale_multiplier=500\n",
    "        )\n",
    "        sols = solve_qubo_bruteforce(scaled_Q, 2)\n",
    "        s = sols[0]\n",
    "        s_second = sols[1]\n",
    "        true.append(perms)\n",
    "        pred.append(s[0])\n",
    "        pred_second.append(s_second[0])\n",
    "\n",
    "    true = np.array(true)\n",
    "    pred = np.array(pred)\n",
    "    pred_second = np.array(pred_second)\n",
    "    correct = np.array([check_correct(t, p) for t, p in zip(true, pred)])\n",
    "    correct_second = np.array([check_correct(t, p) for t, p in zip(true, pred_second)])\n",
    "\n",
    "    if verbose:\n",
    "        for t, p, c in zip(true, pred, correct_second):\n",
    "            print(f\"true: {t}, pred: {p}, correct: {c}, second: {c}\")\n",
    "\n",
    "        print(f\"correct: {np.sum(correct)}/{len(correct)}\")\n",
    "    return true, pred, correct, correct_second"
   ]
  },
  {
   "cell_type": "code",
   "execution_count": 81,
   "id": "4e39e848",
   "metadata": {},
   "outputs": [
    {
     "name": "stderr",
     "output_type": "stream",
     "text": [
      "100%|██████████| 10/10 [00:00<00:00, 456.86it/sTrue]"
     ]
    },
    {
     "name": "stdout",
     "output_type": "stream",
     "text": [
      "true: [1 1 1], pred: [0 0 0], correct: False, second: False\n",
      "true: [1 1 0], pred: [0 0 1], correct: True, second: True\n",
      "true: [1 1 0], pred: [0 0 1], correct: True, second: True\n",
      "true: [1 0 0], pred: [0 1 1], correct: True, second: True\n",
      "true: [1 1 0], pred: [0 0 0], correct: True, second: True\n",
      "true: [1 1 0], pred: [0 0 0], correct: True, second: True\n",
      "true: [0 0 1], pred: [0 0 1], correct: True, second: True\n",
      "true: [1 0 0], pred: [0 1 1], correct: True, second: True\n",
      "true: [1 1 1], pred: [0 0 0], correct: True, second: True\n",
      "true: [0 0 1], pred: [0 0 1], correct: True, second: True\n",
      "correct: 8/10\n"
     ]
    },
    {
     "name": "stderr",
     "output_type": "stream",
     "text": [
      "\n"
     ]
    },
    {
     "data": {
      "text/plain": [
       "(array([[1, 1, 1],\n",
       "        [1, 1, 0],\n",
       "        [1, 1, 0],\n",
       "        [1, 0, 0],\n",
       "        [1, 1, 0],\n",
       "        [1, 1, 0],\n",
       "        [0, 0, 1],\n",
       "        [1, 0, 0],\n",
       "        [1, 1, 1],\n",
       "        [0, 0, 1]]),\n",
       " array([[0, 0, 0],\n",
       "        [0, 0, 1],\n",
       "        [0, 0, 1],\n",
       "        [0, 1, 1],\n",
       "        [0, 0, 0],\n",
       "        [0, 0, 0],\n",
       "        [0, 0, 1],\n",
       "        [0, 1, 1],\n",
       "        [0, 0, 0],\n",
       "        [0, 0, 1]]),\n",
       " array([ True,  True,  True,  True, False, False,  True,  True,  True,\n",
       "         True]),\n",
       " array([False,  True,  True,  True,  True,  True,  True,  True,  True,\n",
       "         True]))"
      ]
     },
     "execution_count": 81,
     "metadata": {},
     "output_type": "execute_result"
    }
   ],
   "source": [
    "time_sum = 120.0\n",
    "n = 10\n",
    "max_abs_value = 50\n",
    "\n",
    "evaluate_qubo_rounding(n, time_sum, max_abs_value)"
   ]
  },
  {
   "cell_type": "code",
   "execution_count": 84,
   "id": "c0e271e4",
   "metadata": {},
   "outputs": [
    {
     "name": "stdout",
     "output_type": "stream",
     "text": [
      "max_abs_val:     10, correct: 67/100=0.6700\n",
      "max_abs_val:     15, correct: 70/100=0.7000\n",
      "max_abs_val:     20, correct: 77/100=0.7700\n",
      "max_abs_val:     25, correct: 83/100=0.8300\n",
      "max_abs_val:     30, correct: 84/100=0.8400\n",
      "max_abs_val:     35, correct: 84/100=0.8400\n",
      "max_abs_val:     40, correct: 85/100=0.8500\n",
      "max_abs_val:     45, correct: 87/100=0.8700\n",
      "max_abs_val:     50, correct: 85/100=0.8500\n",
      "max_abs_val:     60, correct: 86/100=0.8600\n",
      "max_abs_val:     70, correct: 88/100=0.8800\n",
      "max_abs_val:     80, correct: 90/100=0.9000\n",
      "max_abs_val:     90, correct: 89/100=0.8900\n",
      "max_abs_val:    100, correct: 89/100=0.8900\n",
      "max_abs_val:    150, correct: 94/100=0.9400\n",
      "max_abs_val:    200, correct: 93/100=0.9300\n",
      "max_abs_val:    300, correct: 93/100=0.9300\n",
      "max_abs_val:    400, correct: 94/100=0.9400\n"
     ]
    },
    {
     "data": {
      "text/plain": [
       "Text(0.5, 1.0, 'Percentage for Q_scaled_rounded same ground state as Q')"
      ]
     },
     "execution_count": 84,
     "metadata": {},
     "output_type": "execute_result"
    },
    {
     "data": {
      "image/png": "[encoded data removed]",
      "text/plain": [
       "<Figure size 640x480 with 1 Axes>"
      ]
     },
     "metadata": {},
     "output_type": "display_data"
    }
   ],
   "source": [
    "n = 100\n",
    "max_abs_vals = [10, 15, 20, 25, 30, 35, 40, 45, 50, 60, 70, 80, 90, 100, 150, 200, 300, 400]\n",
    "percentages = []\n",
    "percentages_second = []\n",
    "first_wrong_second_true_percentage = []\n",
    "first_or_second_true = []\n",
    "for max_abs_value in max_abs_vals:\n",
    "    true, pred, correct, correct_second = evaluate_qubo_rounding(n, time_sum, max_abs_value, verbose=False)\n",
    "    percentage = np.sum(correct) / len(correct)\n",
    "    percentate_second = np.sum(correct_second) / len(correct_second)\n",
    "    percentages.append(percentage)\n",
    "    percentages_second.append(percentate_second)\n",
    "    first_wrong_second_true_percentage.append(\n",
    "        np.sum(np.logical_and(correct == False, correct_second == True)) / len(correct_second)\n",
    "    )\n",
    "    first_or_second_true.append(\n",
    "        np.sum(np.logical_or(correct == True, correct_second == True)) / len(correct_second)\n",
    "    )\n",
    "    print(f\"max_abs_val: {max_abs_value:6}, correct: {np.sum(correct)}/{len(correct)}={percentage:.4f}\")\n",
    "percentages = np.array(percentages)\n",
    "percentages_second = np.array(percentages_second)\n",
    "first_wrong_second_true_percentage = np.array(first_wrong_second_true_percentage)\n",
    "first_or_second_true = np.array(first_or_second_true)\n",
    "\n",
    "plt.plot(max_abs_vals, percentages, marker=\"o\")\n",
    "plt.plot(max_abs_vals, percentages_second, marker=\"x\")\n",
    "plt.plot(max_abs_vals, first_wrong_second_true_percentage, marker=\"^\")\n",
    "plt.legend([\"percentage correct\", \"percentage second solution correct\", \"percentage first wrong, second true\"])\n",
    "plt.xlabel(\"max_abs_value\")\n",
    "plt.ylabel(\"percentage correct\")\n",
    "plt.title(\"Percentage for Q_scaled_rounded same ground state as Q\")"
   ]
  },
  {
   "cell_type": "code",
   "execution_count": 79,
   "id": "721f0298",
   "metadata": {},
   "outputs": [
    {
     "data": {
      "image/png": "[encoded data removed]",
      "text/plain": [
       "<Figure size 640x480 with 1 Axes>"
      ]
     },
     "metadata": {},
     "output_type": "display_data"
    }
   ],
   "source": [
    "plt.plot(max_abs_vals, first_or_second_true, marker=\"o\")\n",
    "plt.xlabel(\"max_abs_value\")\n",
    "plt.ylabel(\"percentage correct\")\n",
    "plt.title(\"Percentage for Q_scaled_rounded same ground state as Q\")\n",
    "plt.legend([\"percentage first or second true\"])\n",
    "plt.show()"
   ]
  },
  {
   "cell_type": "code",
   "execution_count": null,
   "id": "4264d727",
   "metadata": {},
   "outputs": [],
   "source": []
  }
 ],
 "metadata": {
  "kernelspec": {
   "display_name": "pulser",
   "language": "python",
   "name": "python3"
  },
  "language_info": {
   "codemirror_mode": {
    "name": "ipython",
    "version": 3
   },
   "file_extension": ".py",
   "mimetype": "text/x-python",
   "name": "python",
   "nbconvert_exporter": "python",
   "pygments_lexer": "ipython3",
   "version": "3.12.9"
  }
 },
 "nbformat": 4,
 "nbformat_minor": 5
}
